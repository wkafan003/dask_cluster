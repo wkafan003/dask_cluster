{
 "cells": [
  {
   "cell_type": "markdown",
   "metadata": {},
   "source": [
    "# Машинное обучение: постепенное обучение на больших наборах данных¶\n",
    "\n",
    "Некоторые оценщики scikit-learn реализуют метод partial_fit. Это означает, что их можно обучать постепенно. Инкрементальная метаоценка в Dask-ML обеспечивает хороший мост между данными, хранящимися в массиве Dask, и оценщиками, реализующими partial_fit.\n",
    "\n",
    "\n",
    "Подключение к кластеру"
   ]
  },
  {
   "cell_type": "code",
   "execution_count": null,
   "metadata": {},
   "outputs": [],
   "source": [
    "from dask.distributed import Client\n",
    "client = Client()\n",
    "client"
   ]
  },
  {
   "cell_type": "markdown",
   "metadata": {},
   "source": [
    "## Create a random dataset"
   ]
  },
  {
   "cell_type": "markdown",
   "metadata": {},
   "source": [
    "В этом примере происходит генерация большого случайного массива dask в кластере. На практике данные загружают данные из хранилища данных (таблица SQL, HDFS, облачное хранилище)."
   ]
  },
  {
   "cell_type": "code",
   "execution_count": null,
   "metadata": {},
   "outputs": [],
   "source": [
    "import dask\n",
    "import dask.array as da\n",
    "from distributed.utils import format_bytes\n",
    "\n",
    "import dask_ml.datasets\n",
    "import dask_ml.model_selection"
   ]
  },
  {
   "cell_type": "code",
   "execution_count": null,
   "metadata": {},
   "outputs": [],
   "source": [
    "n_samples = 4_000_000\n",
    "n_features = 1_000\n",
    "chunks = n_samples // 50\n",
    "\n",
    "X, y = dask_ml.datasets.make_classification(\n",
    "    n_samples=n_samples, n_features=n_features,\n",
    "    chunks=chunks,\n",
    "    random_state=0\n",
    ")"
   ]
  },
  {
   "cell_type": "markdown",
   "metadata": {},
   "source": [
    "## Разделение выборки на тестовую и обучающуюся"
   ]
  },
  {
   "cell_type": "markdown",
   "metadata": {},
   "source": []
  },
  {
   "cell_type": "code",
   "execution_count": null,
   "metadata": {},
   "outputs": [],
   "source": [
    "X_train, X_test, y_train, y_test = dask_ml.model_selection.train_test_split(\n",
    "    X, y\n",
    ")\n",
    "X_train, X_test, y_train, y_test = dask.persist(\n",
    "    X_train, X_test, y_train, y_test\n",
    ")\n",
    "\n",
    "format_bytes(X_train.nbytes)"
   ]
  },
  {
   "cell_type": "markdown",
   "metadata": {},
   "source": [
    "## Создание  Scikit-Learn Model, SGDClassifier"
   ]
  },
  {
   "cell_type": "markdown",
   "metadata": {},
   "source": [
    "Будем использовать SGDClassifier для основного оценщика, реализующего partial_fit.\n",
    "Incemental будет последовательно передавать ему блоки массива dask."
   ]
  },
  {
   "cell_type": "code",
   "execution_count": null,
   "metadata": {},
   "outputs": [],
   "source": [
    "from sklearn.linear_model import SGDClassifier\n",
    "from dask_ml.wrappers import Incremental\n",
    "\n",
    "estimator = SGDClassifier(\n",
    "    max_iter=1000,\n",
    "    random_state=0\n",
    ")\n",
    "\n",
    "inc = Incremental(estimator, scoring='accuracy')"
   ]
  },
  {
   "cell_type": "code",
   "execution_count": null,
   "metadata": {},
   "outputs": [],
   "source": [
    "%time _ = inc.fit(X_train, y_train, classes=[0, 1])"
   ]
  },
  {
   "cell_type": "markdown",
   "metadata": {},
   "source": []
  },
  {
   "cell_type": "markdown",
   "metadata": {},
   "source": [
    "## Предсказание модели"
   ]
  },
  {
   "cell_type": "markdown",
   "metadata": {},
   "source": [
    "Прогнозирование является ленивым и возвращает массив Dask. Обычно предпочтительнее хранить данные в кластере, чем пытаться вернуть большие результаты на одну машину."
   ]
  },
  {
   "cell_type": "code",
   "execution_count": null,
   "metadata": {},
   "outputs": [],
   "source": [
    "inc.predict(X_test)"
   ]
  },
  {
   "cell_type": "markdown",
   "metadata": {},
   "source": [
    "Подсчет точности происходит немедленно, но происходит в кластере."
   ]
  },
  {
   "cell_type": "code",
   "execution_count": null,
   "metadata": {},
   "outputs": [],
   "source": [
    "%time inc.score(X_test, y_test)"
   ]
  },
  {
   "cell_type": "markdown",
   "metadata": {},
   "source": [
    "Как видно, эта модель не особо хороша, но она смогла очень быстро проанализировать большой объем данных"
   ]
  }
 ],
 "metadata": {
  "kernelspec": {
   "display_name": "Python 3",
   "language": "python",
   "name": "python3"
  },
  "language_info": {
   "codemirror_mode": {
    "name": "ipython",
    "version": 3
   },
   "file_extension": ".py",
   "mimetype": "text/x-python",
   "name": "python",
   "nbconvert_exporter": "python",
   "pygments_lexer": "ipython3",
   "version": "3.8.5"
  }
 },
 "nbformat": 4,
 "nbformat_minor": 4
}
